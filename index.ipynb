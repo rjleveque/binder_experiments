{
 "cells": [
  {
   "cell_type": "markdown",
   "metadata": {},
   "source": [
    "# Binder experiments\n",
    "\n",
    "This repository contains some experiments using [binder](http://www.mybinder.org) to launch notebooks.  \n",
    "\n",
    "- [misc/plot_sine.ipynb](misc/plot_sine.ipynb)\n",
    "- [misc/seaborn_plot.ipynb](misc/seaborn_plot.ipynb)\n",
    "- [misc/import_test.ipynb](misc/import_test.ipynb)\n",
    "- [misc/ipyleaflet_polygon_selector.ipynb](misc/ipyleaflet_polygon_selector.ipynb)\n",
    "\n",
    "### Clawpack tests\n",
    "\n",
    "- [clawpack_tests/pyclaw1.ipynb](clawpack_tests/pyclaw1.ipynb)\n",
    "- [clawpack_tests/acoustics_1d_example1/Acoustics_1d_example1.ipynb](clawpack_tests/acoustics_1d_example1/Acoustics_1d_example1.ipynb)"
   ]
  },
  {
   "cell_type": "code",
   "execution_count": null,
   "metadata": {
    "collapsed": true
   },
   "outputs": [],
   "source": []
  }
 ],
 "metadata": {
  "kernelspec": {
   "display_name": "Python 2",
   "language": "python",
   "name": "python2"
  },
  "language_info": {
   "codemirror_mode": {
    "name": "ipython",
    "version": 2
   },
   "file_extension": ".py",
   "mimetype": "text/x-python",
   "name": "python",
   "nbconvert_exporter": "python",
   "pygments_lexer": "ipython2",
   "version": "2.7.11"
  },
  "widgets": {
   "state": {},
   "version": "1.1.2"
  }
 },
 "nbformat": 4,
 "nbformat_minor": 0
}
