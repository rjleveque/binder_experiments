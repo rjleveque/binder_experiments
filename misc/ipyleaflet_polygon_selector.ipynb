{
 "cells": [
  {
   "cell_type": "markdown",
   "metadata": {},
   "source": [
    "# Tool to draw polygons on maps and capture vertices\n",
    "\n",
    "This notebook lets you draw rectangles or polygons on a map and print out the vertices.  \n",
    "\n",
    "This is useful to generate lists of vertices as input to GeoClaw, e.g. to specify AMR regions or fixed grid output domains.\n",
    "\n",
    "Requires <https://github.com/ellisonbg/ipyleaflet>"
   ]
  },
  {
   "cell_type": "code",
   "execution_count": 5,
   "metadata": {
    "collapsed": true
   },
   "outputs": [],
   "source": [
    "from IPython.display import display\n",
    "import ipywidgets"
   ]
  },
  {
   "cell_type": "code",
   "execution_count": 6,
   "metadata": {
    "collapsed": false
   },
   "outputs": [],
   "source": [
    "from __future__ import print_function\n",
    "import ipyleaflet\n",
    "\n",
    "from ipyleaflet import (\n",
    "    Map,\n",
    "    Marker,\n",
    "    TileLayer, ImageOverlay,\n",
    "    Polyline, Polygon, Rectangle, Circle, CircleMarker,\n",
    "    GeoJSON,\n",
    "    DrawControl\n",
    ")\n"
   ]
  },
  {
   "cell_type": "markdown",
   "metadata": {},
   "source": [
    "# Latitude, Longitude of Map "
   ]
  },
  {
   "cell_type": "code",
   "execution_count": 7,
   "metadata": {
    "collapsed": false
   },
   "outputs": [],
   "source": [
    "#center = [48.355, -124.642] # Neah Bay\n",
    "center = [41.75, -124.19] # Crescent City\n",
    "\n",
    "zoom = 11\n",
    "m = Map(center=center, zoom=zoom)\n",
    "m"
   ]
  },
  {
   "cell_type": "markdown",
   "metadata": {},
   "source": [
    "### Map Widget and drawing tool Definitions"
   ]
  },
  {
   "cell_type": "code",
   "execution_count": 8,
   "metadata": {
    "collapsed": false
   },
   "outputs": [],
   "source": [
    "zoom = 13\n",
    "c = ipywidgets.Box()\n",
    "\n",
    "topo_background = True   # Use topo as background rather than map?\n",
    "\n",
    "if topo_background:\n",
    "    m = Map(width='1000px',height='600px', center=center, zoom=zoom, \\\n",
    "        default_tiles=TileLayer(url=u'http://otile1.mqcdn.com/tiles/1.0.0/sat/{z}/{x}/{y}.jpg'))\n",
    "else:\n",
    "    m = Map(width='1000px',height='600px', center=center, zoom=zoom)\n",
    "    \n",
    "c.children = [m]\n",
    "\n",
    "# keep track of rectangles and polygons drawn on map:\n",
    "def clear_m():\n",
    "    global rects,polys\n",
    "    rects = set()\n",
    "    polys = set()\n",
    "    \n",
    "clear_m()\n",
    "rect_color = '#a52a2a'\n",
    "poly_color = '#00F'\n",
    "\n",
    "myDrawControl = DrawControl(\n",
    "rectangle={'shapeOptions':{'color':rect_color}},\n",
    "        polygon={'shapeOptions':{'color':poly_color}}) #,polyline=None)\n",
    "\n",
    "def handle_draw(self, action, geo_json):\n",
    "    global rects,polys\n",
    "    polygon=[]\n",
    "    for coords in geo_json['geometry']['coordinates'][0][:-1][:]:\n",
    "        polygon.append(tuple(coords))\n",
    "    polygon = tuple(polygon)\n",
    "    if geo_json['properties']['style']['color'] == '#00F':  # poly\n",
    "        if action == 'created':\n",
    "            polys.add(polygon)\n",
    "        elif action == 'deleted':\n",
    "            polys.discard(polygon)\n",
    "    if geo_json['properties']['style']['color'] == '#a52a2a':  # rect\n",
    "        if action == 'created':\n",
    "            rects.add(polygon)\n",
    "        elif action == 'deleted':\n",
    "            rects.discard(polygon)\n",
    "myDrawControl.on_draw(handle_draw)\n",
    "m.add_control(myDrawControl)"
   ]
  },
  {
   "cell_type": "markdown",
   "metadata": {
    "collapsed": true
   },
   "source": [
    "### On the map below, select the polygon tool or the rectangle tool and start clicking points.  \n",
    "\n",
    "You can add several of each if you want.  \n",
    "\n",
    "**Note:** \n",
    " - If you delete one, you must then click 'save'.  \n",
    " - The edit function doesn't save the edited version (need fixing)."
   ]
  },
  {
   "cell_type": "code",
   "execution_count": 24,
   "metadata": {
    "collapsed": false
   },
   "outputs": [],
   "source": [
    "clear_m()\n",
    "display(m)"
   ]
  },
  {
   "cell_type": "markdown",
   "metadata": {},
   "source": [
    "#### Now you can print the coordinates of the vertices:\n",
    "\n",
    "Note that 5 digits gives about 1 meter precision."
   ]
  },
  {
   "cell_type": "code",
   "execution_count": 27,
   "metadata": {
    "collapsed": false
   },
   "outputs": [],
   "source": [
    "for r in polys: \n",
    "    print(\"\\nPolygon vertices:\")\n",
    "    for c in r: print('%10.5f, %10.5f' % c)\n",
    "        \n",
    "for r in rects: \n",
    "    print(\"\\nRectangle vertices:\")\n",
    "    for c in r: print('%10.5f, %10.5f' % c)"
   ]
  },
  {
   "cell_type": "markdown",
   "metadata": {
    "collapsed": true
   },
   "source": [
    "#### Re-execute the cell above the map to clear and specify a new set of polygons."
   ]
  },
  {
   "cell_type": "markdown",
   "metadata": {},
   "source": [
    "## Other ways to print the vertices\n",
    "\n",
    "Depending on what you want to do with the output, you might want to print in a different format.  Here are some examples...\n",
    "\n",
    "#### Rectangle as a tuple x1,y1,x2,y2 of corners:\n",
    "\n",
    "This format is used in specifying a GeoClaw AMR \"region\"."
   ]
  },
  {
   "cell_type": "code",
   "execution_count": 28,
   "metadata": {
    "collapsed": false
   },
   "outputs": [],
   "source": [
    "for r in rects:\n",
    "    print(\"\\nCoordinates of lower left and upper right corner of rectangle:\")\n",
    "    x1 = r[0][0]\n",
    "    x2 = r[2][0]\n",
    "    y1 = r[0][1]\n",
    "    y2 = r[2][1]\n",
    "    print(\"x1, y1, x2, y2 = %10.5f, %10.5f, %10.5f, %10.5f\" % (x1,y1,x2,y2))"
   ]
  },
  {
   "cell_type": "markdown",
   "metadata": {},
   "source": [
    "#### As tuples x and y:\n",
    "\n",
    "This format is used in specifying a GeoClaw fgmax rectangle or quadrilateral."
   ]
  },
  {
   "cell_type": "code",
   "execution_count": 26,
   "metadata": {
    "collapsed": false
   },
   "outputs": [],
   "source": [
    "for r in rects:\n",
    "    print(\"\\nCoordinates of lower left and upper right corner of rectangle:\")\n",
    "    x1 = r[0][0]\n",
    "    x2 = r[2][0]\n",
    "    y1 = r[0][1]\n",
    "    y2 = r[2][1]\n",
    "    print(\"x = %10.5f, %10.5f\" % (x1,x2))\n",
    "    print(\"y = %10.5f, %10.5f\" % (y1,y2))\n",
    "    \n",
    "\n",
    "for r in polys:\n",
    "    print(\"\\nCoordinates of distinct vertices of polygon:\")\n",
    "    sx = 'x = '\n",
    "    sy = 'y = '\n",
    "    for j in range(len(r)-1):\n",
    "        sx = sx + ' %10.5f,' % r[j][0]\n",
    "        sy = sy + ' %10.5f,' % r[j][1]\n",
    "    print(sx)\n",
    "    print(sy)\n",
    "        "
   ]
  },
  {
   "cell_type": "markdown",
   "metadata": {},
   "source": [
    "## To create kml files:\n",
    "\n",
    "You can create a set of kml files for each rectangle or polygon with the code below.  \n",
    "`poly2kml` is recently added to `geoclaw.kmltools`."
   ]
  },
  {
   "cell_type": "code",
   "execution_count": 25,
   "metadata": {
    "collapsed": false
   },
   "outputs": [],
   "source": [
    "from clawpack.geoclaw import kmltools\n",
    "reload(kmltools)\n",
    "for i,r in enumerate(rects):\n",
    "    x1 = r[0][0]\n",
    "    x2 = r[2][0]\n",
    "    y1 = r[0][1]\n",
    "    y2 = r[2][1]\n",
    "    name = \"rect%i\" % i\n",
    "    kmltools.box2kml((x1,x2,y1,y2), name=name, verbose=True)"
   ]
  },
  {
   "cell_type": "code",
   "execution_count": null,
   "metadata": {
    "collapsed": false
   },
   "outputs": [],
   "source": [
    "for i,r in enumerate(polys):\n",
    "    x = [xy[0] for xy in r]\n",
    "    y = [xy[1] for xy in r]\n",
    "    kmltools.poly2kml((x,y), name=\"poly%i\" % i, verbose=True)"
   ]
  },
  {
   "cell_type": "code",
   "execution_count": null,
   "metadata": {
    "collapsed": true
   },
   "outputs": [],
   "source": []
  }
 ],
 "metadata": {
  "kernelspec": {
   "display_name": "Python 2",
   "language": "python",
   "name": "python2"
  },
  "language_info": {
   "codemirror_mode": {
    "name": "ipython",
    "version": 2
   },
   "file_extension": ".py",
   "mimetype": "text/x-python",
   "name": "python",
   "nbconvert_exporter": "python",
   "pygments_lexer": "ipython2",
   "version": "2.7.11"
  },
  "widgets": {
   "state": {
    "02f827080baf4bd597cccf347c5f9859": {
     "views": []
    },
    "03444958926a4972ab8b4297e3702097": {
     "views": []
    },
    "037e62c9f21449429e169d048ad2b203": {
     "views": []
    },
    "0671591db06e4fb1a60644fa8cbd8736": {
     "views": []
    },
    "08f591abdaa640febeb2e0fb5a11e800": {
     "views": []
    },
    "115a8524f1364a13a4a320b35e6a4063": {
     "views": [
      {
       "cell_index": 4
      }
     ]
    },
    "1267023808404571ba3ad22e1b576060": {
     "views": []
    },
    "135f55c797fa4c31affa60861210234c": {
     "views": []
    },
    "13d209c9b8af4e3c8d4417e5f158c523": {
     "views": []
    },
    "144705a32d3140649c3dbc9b811c66e5": {
     "views": []
    },
    "1a3b90e8dd2e425daa29bdabe763b680": {
     "views": []
    },
    "1c62a6a3ed11490b96e0ef3da5e293b0": {
     "views": []
    },
    "1de0164947a049bea09e17291ec83809": {
     "views": []
    },
    "1f83949f3e9847498c715f140eb23e6d": {
     "views": []
    },
    "22e1cbfab582424299a89e9aba4d40b4": {
     "views": []
    },
    "280c65e3c77947c9a2631cb2b565920f": {
     "views": []
    },
    "29b451f293bc4eb9bc8c41ef8354cef2": {
     "views": []
    },
    "301d29993adf4a27a4987f7ad264b510": {
     "views": []
    },
    "31675aad1b5b40638c0a8d6606d6b9a7": {
     "views": []
    },
    "344696c4d6d54d82bc794650879d4709": {
     "views": []
    },
    "43861f884e974b94a39a93854ef527df": {
     "views": []
    },
    "4456238819174ad1b9c7e99ebd2d6e50": {
     "views": []
    },
    "461347c88eb641e19324c63827e6be8e": {
     "views": []
    },
    "47bcb81e402744dcb1423dfb424145fa": {
     "views": []
    },
    "4a0a6600fe4942d6b17291a330d41a22": {
     "views": []
    },
    "4ab536e6377848479dd88a366ff0fb84": {
     "views": []
    },
    "533b581a28fa446e8fc066a190a7cf2f": {
     "views": []
    },
    "57066237904e400aa1c7ec08b2b04002": {
     "views": []
    },
    "5a4e822d34084968a5852f6c6b2d653c": {
     "views": []
    },
    "5b7df3e4c7444c60a40ee060e290e73e": {
     "views": []
    },
    "5d4719bff7514d3a9fc3921758d1f0dc": {
     "views": []
    },
    "62c14821c4e14577805864269e571995": {
     "views": []
    },
    "6650d38f4f9e4948b134c5f8e8165779": {
     "views": []
    },
    "66a212921fda45bea497c6fd8d9af9d0": {
     "views": []
    },
    "683dce858a834928822f60811adb52bf": {
     "views": []
    },
    "6cb0304fd8bf40e1b545f52ba70ba062": {
     "views": []
    },
    "6d3975ac4e304602ae506e1401c71cda": {
     "views": []
    },
    "7144b9423b3040c4a93c19cda2edb980": {
     "views": []
    },
    "71d7ce8f2e074da8af96a847380da6a2": {
     "views": []
    },
    "7291e207bc204c27bfe3e21094d49ff6": {
     "views": []
    },
    "73b32e3f36254d14abbcbcbcdd021d5e": {
     "views": []
    },
    "756b2d93230a40ec9b20001be03b8e03": {
     "views": []
    },
    "7b5257e6c2b6492e98362dd836a3fccf": {
     "views": []
    },
    "8333c375d514494cae06d67ffda3d84d": {
     "views": []
    },
    "856a396fa98b4531b4c6d519506a94b2": {
     "views": []
    },
    "862267509894444caa3285b18c7e8bb3": {
     "views": []
    },
    "8c8b344188b84f99b7c04518c0d13418": {
     "views": []
    },
    "8ca4f6567b444a23912cace9d0992b01": {
     "views": []
    },
    "8e5363bbfd7d412f92a46ac454cd99a2": {
     "views": []
    },
    "90880ad6d3624cdcb728b118aa97e0b5": {
     "views": []
    },
    "91faff718af04576be63ff8dddd7237b": {
     "views": []
    },
    "9411955029844b21bad9818d5597c24b": {
     "views": []
    },
    "969d03d51065450091cdcb73b83988d1": {
     "views": []
    },
    "96bfdffe00d04028abc0f99780eec5da": {
     "views": []
    },
    "a52b67150c35487c9ce83d6853846aed": {
     "views": []
    },
    "a6693697f53e40c3bbddb34634e2a100": {
     "views": []
    },
    "ab0f817e8b054e75b4b213741e2a8ead": {
     "views": []
    },
    "ad55d20c675348adb9752d37c894655b": {
     "views": []
    },
    "af53c668c0284471baed43ce3a6b635b": {
     "views": []
    },
    "b9cab355bc2d403fa01bc2ee5a5167f5": {
     "views": []
    },
    "bc94a1d6f2c34173a72960276b0b06b3": {
     "views": []
    },
    "bea0d9814b6c4d10b9b44457ad7d12c0": {
     "views": []
    },
    "ccdd27c534714ff2bd84d0755b1afb7b": {
     "views": []
    },
    "ce52bf5920bc47beb2d6d15699804c01": {
     "views": []
    },
    "d24bed1d24fc4c32bf71c45ea0771fda": {
     "views": []
    },
    "d25553ecf4624632a9b4bbbd2b55beb7": {
     "views": []
    },
    "d376de1c345b42dcaac945fa1fc72513": {
     "views": []
    },
    "d8e2b9c384c34d2aae9ceaa08cf18156": {
     "views": []
    },
    "da8dd3c86cb24220b692841827a9b501": {
     "views": []
    },
    "dafb8c13697345cb8feaed85cd5c2eef": {
     "views": []
    },
    "dbeb384939b94e6eafee24e3e3609d60": {
     "views": []
    },
    "dc61915de8b54866b5a09aa809e27270": {
     "views": []
    },
    "dd225f1129dd47739602805fa3b2953f": {
     "views": []
    },
    "e3f84bf1cad5486bb4071ae210819f40": {
     "views": []
    },
    "e75944373c404e7496c4c85636ba98a4": {
     "views": [
      {
       "cell_index": 8
      }
     ]
    },
    "eb4ba26ce27a4fdda36befdc4c87e62a": {
     "views": []
    },
    "ec62966a5e86488e960872cefdf5abea": {
     "views": []
    },
    "edfa6b0f5e6941cda7d604ffe33b924e": {
     "views": []
    },
    "ee860e35d7a843a38963c4fa50eb2d6b": {
     "views": []
    },
    "ef949f27936e42d9a4efd6684c9483a6": {
     "views": []
    },
    "efe0ef3c6e0d4aa1b747a19c31ccf53f": {
     "views": []
    },
    "f168a48c1d79499e9e3270da0af8c6c8": {
     "views": []
    },
    "f2308a2d1df34d3eba0a5cc6eb006b1c": {
     "views": []
    },
    "f673934db04b48f79a2c49518848738d": {
     "views": []
    },
    "f776e95d8efe40598416903b9db5a2de": {
     "views": []
    },
    "fc97a16d346e4c87b999274ae3f260a3": {
     "views": []
    },
    "fd404f47653d4ff6a2e2faf0f3ac6c0d": {
     "views": []
    },
    "fd4fe028bcc7431dae68c86f915a4ca2": {
     "views": []
    },
    "fef2a63ff02542149f559e472f5021eb": {
     "views": []
    },
    "fefb51870efc4fffaab1f0706d566940": {
     "views": []
    }
   },
   "version": "1.1.2"
  }
 },
 "nbformat": 4,
 "nbformat_minor": 0
}
