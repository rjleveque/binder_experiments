{
 "cells": [
  {
   "cell_type": "markdown",
   "metadata": {},
   "source": [
    "# Acoustics equations in 1 dimension"
   ]
  },
  {
   "cell_type": "code",
   "execution_count": 1,
   "metadata": {
    "collapsed": false
   },
   "outputs": [],
   "source": [
    "%pylab inline"
   ]
  },
  {
   "cell_type": "code",
   "execution_count": 2,
   "metadata": {
    "collapsed": true
   },
   "outputs": [],
   "source": [
    "from matplotlib import pyplot as plt\n",
    "from ipywidgets import interact, interact_manual\n",
    "import ipywidgets"
   ]
  },
  {
   "cell_type": "code",
   "execution_count": 3,
   "metadata": {
    "collapsed": false
   },
   "outputs": [],
   "source": [
    "import clawpack\n",
    "clawpack.__file__"
   ]
  },
  {
   "cell_type": "code",
   "execution_count": 4,
   "metadata": {
    "collapsed": false
   },
   "outputs": [],
   "source": [
    "import sys, os\n",
    "CLAW = [p for p in sys.path if 'clawpack' in p][0]\n",
    "print 'Setting CLAW = ',CLAW"
   ]
  },
  {
   "cell_type": "code",
   "execution_count": 18,
   "metadata": {
    "collapsed": true
   },
   "outputs": [],
   "source": [
    "claw_env = os.environ\n",
    "claw_env['CLAW'] = CLAW"
   ]
  },
  {
   "cell_type": "code",
   "execution_count": 5,
   "metadata": {
    "collapsed": true
   },
   "outputs": [],
   "source": [
    "from clawpack.clawutil import nbtools"
   ]
  },
  {
   "cell_type": "code",
   "execution_count": 19,
   "metadata": {
    "collapsed": false
   },
   "outputs": [],
   "source": [
    "nbtools.make_htmls(env=claw_env)"
   ]
  },
  {
   "cell_type": "code",
   "execution_count": 20,
   "metadata": {
    "collapsed": false
   },
   "outputs": [],
   "source": [
    "nbtools.make_exe(new=True,env=claw_env)"
   ]
  },
  {
   "cell_type": "code",
   "execution_count": 21,
   "metadata": {
    "collapsed": false
   },
   "outputs": [],
   "source": [
    "# Run the code with the original parameter settings\n",
    "outdir,plotdir = nbtools.make_output_and_plots(env=claw_env, verbose=True)"
   ]
  },
  {
   "cell_type": "markdown",
   "metadata": {},
   "source": [
    "<plot_output.txt>"
   ]
  },
  {
   "cell_type": "markdown",
   "metadata": {},
   "source": [
    "### Display the time frame plots with an interactive slider:"
   ]
  },
  {
   "cell_type": "code",
   "execution_count": 8,
   "metadata": {
    "collapsed": false
   },
   "outputs": [],
   "source": [
    "import glob, os\n",
    "images = []\n",
    "files = glob.glob('_plots/frame*png')\n",
    "for file in files:\n",
    "    im = plt.imread(file)\n",
    "    images.append(im)\n",
    "\n",
    "def imshow_noaxes(im, figsize=(8,6)):\n",
    "    plt.figure(figsize=figsize)\n",
    "    ax = plt.axes()\n",
    "    plt.imshow(im)\n",
    "    ax.axis('off')\n",
    "\n",
    "def display_frame(frameno):\n",
    "    imshow_noaxes(images[frameno])\n",
    "    "
   ]
  },
  {
   "cell_type": "code",
   "execution_count": 14,
   "metadata": {
    "collapsed": false
   },
   "outputs": [],
   "source": [
    "interact(display_frame, frameno=ipywidgets.IntSlider(min=0,max=len(images)-1, value=0))"
   ]
  },
  {
   "cell_type": "code",
   "execution_count": null,
   "metadata": {
    "collapsed": true
   },
   "outputs": [],
   "source": []
  }
 ],
 "metadata": {
  "kernelspec": {
   "display_name": "Python 2",
   "language": "python",
   "name": "python2"
  },
  "language_info": {
   "codemirror_mode": {
    "name": "ipython",
    "version": 2
   },
   "file_extension": ".py",
   "mimetype": "text/x-python",
   "name": "python",
   "nbconvert_exporter": "python",
   "pygments_lexer": "ipython2",
   "version": "2.7.11"
  },
  "widgets": {
   "state": {
    "0f0ec79e623b4a32be26b0db2565cf25": {
     "views": []
    },
    "41a42e54c8f14286bf7f8c6f9e951477": {
     "views": []
    },
    "50c3275e031a46f09d04e11acf0858ad": {
     "views": []
    },
    "5cdf12feb8554cea894e50f53ba7bfaa": {
     "views": []
    },
    "6ca461363e1e46d38e89cab25e254617": {
     "views": [
      {
       "cell_index": 11
      }
     ]
    },
    "adc73c6c34c94835b98ab15344f1f547": {
     "views": []
    },
    "b2d645fa363c4dc99917faed1a541ee3": {
     "views": []
    },
    "c7bfafd344d44a79acdfc68b33986dcf": {
     "views": []
    },
    "cec5cb2b0e5e480b829b0fb1cf1cffea": {
     "views": []
    },
    "e5b83250e2f546dd82611ec19c1b141f": {
     "views": []
    },
    "ec4f613e451b4b279e7636fe66687db3": {
     "views": []
    },
    "f7ec7566b749421db834ab8ca4ffccd3": {
     "views": []
    }
   },
   "version": "1.1.2"
  }
 },
 "nbformat": 4,
 "nbformat_minor": 0
}
